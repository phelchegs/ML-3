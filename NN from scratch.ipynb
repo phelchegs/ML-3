{
 "cells": [
  {
   "cell_type": "markdown",
   "metadata": {},
   "source": [
    "# d-M-1 neural network with tanh-type neurons from scratch (classification problem)"
   ]
  },
  {
   "cell_type": "code",
   "execution_count": 1,
   "metadata": {},
   "outputs": [],
   "source": [
    "import numpy as np\n",
    "import pandas as pd\n",
    "\n",
    "def loaddata(path):\n",
    "    data = pd.read_csv(path, sep = '\\s+', header = None)\n",
    "    data = data.to_numpy()\n",
    "    row, col = data.shape\n",
    "    X = np.c_[np.ones((row, 1)), data[:, 0: col - 1]]\n",
    "    Y = data[:, col - 1: col]\n",
    "    return X, Y\n",
    "\n",
    "Xtrain, Ytrain = loaddata('D:/Program Files/machine learning/Lin ML Tech/作业四/NNetTraining.txt')\n",
    "Xtest, Ytest = loaddata('D:/Program Files/machine learning/Lin ML Tech/作业四/NNetTesting.txt')"
   ]
  },
  {
   "cell_type": "markdown",
   "metadata": {},
   "source": [
    "# Initialize the shallow NN, forward prop and backward prop."
   ]
  },
  {
   "cell_type": "code",
   "execution_count": 2,
   "metadata": {},
   "outputs": [],
   "source": [
    "def initialtheta(d, M, r):                          #M: number of hidden neurons, d: input dimension, r: output dimension\n",
    "    theta1 = np.random.uniform(-r, r, (d, M))\n",
    "    theta2 = np.random.uniform(-r, r, (M + 1, 1))\n",
    "    return theta1, theta2\n",
    "\n",
    "def derivative_tanh(s):\n",
    "    return 1 - np.tanh(s)**2\n",
    "\n",
    "def nnetwork(X, Y, M, r, eta, T):\n",
    "    row, col = X.shape\n",
    "    theta1, theta2 = initialtheta(col, M, r)\n",
    "    for i in range(T):\n",
    "        randpos = np.random.randint(0, row)\n",
    "        Xone = X[randpos:randpos + 1, :]\n",
    "        Yone = Y[randpos]\n",
    "        s1 = np.dot(Xone, theta1)\n",
    "        x1 = np.tanh(s1)\n",
    "        x1 = np.c_[np.ones((1, 1)), x1]\n",
    "        s2 = np.dot(x1, theta2)\n",
    "        x2 = np.tanh(s2)[0][0]\n",
    "        delta2 = -2*(Yone - x2)\n",
    "        delta1 = delta2*theta2[1:, :].T*derivative_tanh(s1)\n",
    "        theta2 -= eta*x1.T*delta2\n",
    "        theta1 -= eta*Xone.T.dot(delta1)\n",
    "    return theta1, theta2\n",
    "\n",
    "def errfunction(X, Y, theta):\n",
    "    row, col = X.shape\n",
    "    l = len(theta)\n",
    "    x = X\n",
    "    for i in range(l - 1):\n",
    "        x = np.c_[np.ones((row, 1)), np.tanh(np.dot(x, theta[i]))]\n",
    "    x2 = np.tanh(np.dot(x, theta[l - 1]))\n",
    "    Yhat = x2\n",
    "    Yhat[Yhat >= 0] = 1\n",
    "    Yhat[Yhat < 0] = -1\n",
    "    return np.sum(Yhat != Y)/row"
   ]
  },
  {
   "cell_type": "markdown",
   "metadata": {},
   "source": [
    "# Test which NO. of hidden neurons gives the lowest error rate."
   ]
  },
  {
   "cell_type": "code",
   "execution_count": null,
   "metadata": {},
   "outputs": [],
   "source": [
    "M = [1, 6, 11, 16, 21] # NO. of hidden neurons\n",
    "Eout = np.zeros((len(M),))\n",
    "for i in range(500):\n",
    "    for j in range(len(M)):\n",
    "        theta1, theta2 = nnetwork(Xtrain, Ytrain, M[j], 0.1, 0.1, 50000)\n",
    "        theta = [theta1, theta2]\n",
    "        Eout[j] += errfunction(Xtest, Ytest, theta)\n",
    "print(Eout/500)"
   ]
  },
  {
   "cell_type": "markdown",
   "metadata": {},
   "source": [
    "# Could kept testing a lot of parameters."
   ]
  },
  {
   "cell_type": "code",
   "execution_count": null,
   "metadata": {},
   "outputs": [],
   "source": [
    "r = [0, 0.001, 0.1, 10, 1000]  #range of initialization of weights\n",
    "Eout = np.zeros((len(r),))\n",
    "for i in range(500):\n",
    "    for j in range(len(r)):\n",
    "        theta1, theta2 = nnetwork(Xtrain, Ytrain, 3, r[j], 0.1, 50000)\n",
    "        theta = [theta1, theta2]\n",
    "        Eout[j] += errfunction(Xtest, Ytest, theta)\n",
    "print(Eout/500)"
   ]
  }
 ],
 "metadata": {
  "kernelspec": {
   "display_name": "Python 3",
   "language": "python",
   "name": "python3"
  },
  "language_info": {
   "codemirror_mode": {
    "name": "ipython",
    "version": 3
   },
   "file_extension": ".py",
   "mimetype": "text/x-python",
   "name": "python",
   "nbconvert_exporter": "python",
   "pygments_lexer": "ipython3",
   "version": "3.7.5"
  }
 },
 "nbformat": 4,
 "nbformat_minor": 4
}
